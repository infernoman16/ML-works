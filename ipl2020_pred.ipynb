{
  "nbformat": 4,
  "nbformat_minor": 0,
  "metadata": {
    "kernelspec": {
      "name": "python3",
      "display_name": "Python 3",
      "language": "python"
    },
    "language_info": {
      "name": "python",
      "version": "3.7.6",
      "mimetype": "text/x-python",
      "codemirror_mode": {
        "name": "ipython",
        "version": 3
      },
      "pygments_lexer": "ipython3",
      "nbconvert_exporter": "python",
      "file_extension": ".py"
    },
    "colab": {
      "name": "ipl2020-pred.ipynb",
      "provenance": [],
      "include_colab_link": true
    }
  },
  "cells": [
    {
      "cell_type": "markdown",
      "metadata": {
        "id": "view-in-github",
        "colab_type": "text"
      },
      "source": [
        "<a href=\"https://colab.research.google.com/github/infernoman16/ML-works/blob/main/ipl2020_pred.ipynb\" target=\"_parent\"><img src=\"https://colab.research.google.com/assets/colab-badge.svg\" alt=\"Open In Colab\"/></a>"
      ]
    },
    {
      "cell_type": "code",
      "metadata": {
        "_uuid": "8f2839f25d086af736a60e9eeb907d3b93b6e0e5",
        "_cell_guid": "b1076dfc-b9ad-4769-8c92-a6c4dae69d19",
        "trusted": true,
        "id": "B-cdOJwFZ-CP"
      },
      "source": [
        "# This Python 3 environment comes with many helpful analytics libraries installed\n",
        "# It is defined by the kaggle/python Docker image: https://github.com/kaggle/docker-python\n",
        "# For example, here's several helpful packages to load\n",
        "\n",
        "import numpy as np # linear algebra\n",
        "import pandas as pd # data processing, CSV file I/O (e.g. pd.read_csv)\n",
        "\n",
        "# Input data files are available in the read-only \"../input/\" directory\n",
        "# For example, running this (by clicking run or pressing Shift+Enter) will list all files under the input directory\n",
        "\n",
        "import os\n",
        "for dirname, _, filenames in os.walk('/kaggle/input'):\n",
        "    for filename in filenames:\n",
        "        print(os.path.join(dirname, filename))\n",
        "\n",
        "# You can write up to 20GB to the current directory (/kaggle/working/) that gets preserved as output when you create a version using \"Save & Run All\" \n",
        "# You can also write temporary files to /kaggle/temp/, but they won't be saved outside of the current session"
      ],
      "execution_count": null,
      "outputs": []
    },
    {
      "cell_type": "code",
      "metadata": {
        "_uuid": "d629ff2d2480ee46fbb7e2d37f6b5fab8052498a",
        "_cell_guid": "79c7e3d0-c299-4dcb-8224-4455121ee9b0",
        "trusted": true,
        "id": "3TD1S5doZ-Ca"
      },
      "source": [
        "import pandas as pd\n",
        "import numpy as np\n",
        "import matplotlib.pyplot as plt \n",
        "import seaborn as sns"
      ],
      "execution_count": null,
      "outputs": []
    },
    {
      "cell_type": "code",
      "metadata": {
        "trusted": true,
        "id": "VYj5KH9yZ-Cc"
      },
      "source": [
        "url='https://raw.githubusercontent.com/infernoman16/learn101/main/Training%20Matches%20IPL%202008-2019.csv?token=AJKWGQKJFSF5APECCV7IH7S754SK4'\n",
        "df=pd.read_csv(url)"
      ],
      "execution_count": null,
      "outputs": []
    },
    {
      "cell_type": "code",
      "metadata": {
        "trusted": true,
        "id": "23-5lXJ0Z-Cc",
        "outputId": "05e94b2d-eba9-431b-d3a4-c1fa9e886054"
      },
      "source": [
        "df.head()"
      ],
      "execution_count": null,
      "outputs": [
        {
          "output_type": "execute_result",
          "data": {
            "text/plain": [
              "   id  season        city        date                  team1  \\\n",
              "0  60    2008   Bangalore  18-04-2008  Kolkata Knight Riders   \n",
              "1  61    2008  Chandigarh  19-04-2008    Chennai Super Kings   \n",
              "2  62    2008       Delhi  19-04-2008       Rajasthan Royals   \n",
              "3  63    2008      Mumbai  20-04-2008         Mumbai Indians   \n",
              "4  64    2008     Kolkata  20-04-2008        Deccan Chargers   \n",
              "\n",
              "                         team2                  toss_winner toss_decision  \\\n",
              "0  Royal Challengers Bangalore  Royal Challengers Bangalore         field   \n",
              "1              Kings XI Punjab          Chennai Super Kings           bat   \n",
              "2             Delhi Daredevils             Rajasthan Royals           bat   \n",
              "3  Royal Challengers Bangalore               Mumbai Indians           bat   \n",
              "4        Kolkata Knight Riders              Deccan Chargers           bat   \n",
              "\n",
              "   result  dl_applied                       winner  win_by_runs  \\\n",
              "0  normal           0        Kolkata Knight Riders          140   \n",
              "1  normal           0          Chennai Super Kings           33   \n",
              "2  normal           0             Delhi Daredevils            0   \n",
              "3  normal           0  Royal Challengers Bangalore            0   \n",
              "4  normal           0        Kolkata Knight Riders            0   \n",
              "\n",
              "   win_by_wickets player_of_match                                       venue  \\\n",
              "0               0     BB McCullum                       M Chinnaswamy Stadium   \n",
              "1               0      MEK Hussey  Punjab Cricket Association Stadium, Mohali   \n",
              "2               9     MF Maharoof                            Feroz Shah Kotla   \n",
              "3               5      MV Boucher                            Wankhede Stadium   \n",
              "4               5       DJ Hussey                                Eden Gardens   \n",
              "\n",
              "     umpire1         umpire2 umpire3  \n",
              "0  Asad Rauf     RE Koertzen     NaN  \n",
              "1  MR Benson      SL Shastri     NaN  \n",
              "2  Aleem Dar  GA Pratapkumar     NaN  \n",
              "3   SJ Davis       DJ Harper     NaN  \n",
              "4  BF Bowden     K Hariharan     NaN  "
            ],
            "text/html": [
              "<div>\n",
              "<style scoped>\n",
              "    .dataframe tbody tr th:only-of-type {\n",
              "        vertical-align: middle;\n",
              "    }\n",
              "\n",
              "    .dataframe tbody tr th {\n",
              "        vertical-align: top;\n",
              "    }\n",
              "\n",
              "    .dataframe thead th {\n",
              "        text-align: right;\n",
              "    }\n",
              "</style>\n",
              "<table border=\"1\" class=\"dataframe\">\n",
              "  <thead>\n",
              "    <tr style=\"text-align: right;\">\n",
              "      <th></th>\n",
              "      <th>id</th>\n",
              "      <th>season</th>\n",
              "      <th>city</th>\n",
              "      <th>date</th>\n",
              "      <th>team1</th>\n",
              "      <th>team2</th>\n",
              "      <th>toss_winner</th>\n",
              "      <th>toss_decision</th>\n",
              "      <th>result</th>\n",
              "      <th>dl_applied</th>\n",
              "      <th>winner</th>\n",
              "      <th>win_by_runs</th>\n",
              "      <th>win_by_wickets</th>\n",
              "      <th>player_of_match</th>\n",
              "      <th>venue</th>\n",
              "      <th>umpire1</th>\n",
              "      <th>umpire2</th>\n",
              "      <th>umpire3</th>\n",
              "    </tr>\n",
              "  </thead>\n",
              "  <tbody>\n",
              "    <tr>\n",
              "      <th>0</th>\n",
              "      <td>60</td>\n",
              "      <td>2008</td>\n",
              "      <td>Bangalore</td>\n",
              "      <td>18-04-2008</td>\n",
              "      <td>Kolkata Knight Riders</td>\n",
              "      <td>Royal Challengers Bangalore</td>\n",
              "      <td>Royal Challengers Bangalore</td>\n",
              "      <td>field</td>\n",
              "      <td>normal</td>\n",
              "      <td>0</td>\n",
              "      <td>Kolkata Knight Riders</td>\n",
              "      <td>140</td>\n",
              "      <td>0</td>\n",
              "      <td>BB McCullum</td>\n",
              "      <td>M Chinnaswamy Stadium</td>\n",
              "      <td>Asad Rauf</td>\n",
              "      <td>RE Koertzen</td>\n",
              "      <td>NaN</td>\n",
              "    </tr>\n",
              "    <tr>\n",
              "      <th>1</th>\n",
              "      <td>61</td>\n",
              "      <td>2008</td>\n",
              "      <td>Chandigarh</td>\n",
              "      <td>19-04-2008</td>\n",
              "      <td>Chennai Super Kings</td>\n",
              "      <td>Kings XI Punjab</td>\n",
              "      <td>Chennai Super Kings</td>\n",
              "      <td>bat</td>\n",
              "      <td>normal</td>\n",
              "      <td>0</td>\n",
              "      <td>Chennai Super Kings</td>\n",
              "      <td>33</td>\n",
              "      <td>0</td>\n",
              "      <td>MEK Hussey</td>\n",
              "      <td>Punjab Cricket Association Stadium, Mohali</td>\n",
              "      <td>MR Benson</td>\n",
              "      <td>SL Shastri</td>\n",
              "      <td>NaN</td>\n",
              "    </tr>\n",
              "    <tr>\n",
              "      <th>2</th>\n",
              "      <td>62</td>\n",
              "      <td>2008</td>\n",
              "      <td>Delhi</td>\n",
              "      <td>19-04-2008</td>\n",
              "      <td>Rajasthan Royals</td>\n",
              "      <td>Delhi Daredevils</td>\n",
              "      <td>Rajasthan Royals</td>\n",
              "      <td>bat</td>\n",
              "      <td>normal</td>\n",
              "      <td>0</td>\n",
              "      <td>Delhi Daredevils</td>\n",
              "      <td>0</td>\n",
              "      <td>9</td>\n",
              "      <td>MF Maharoof</td>\n",
              "      <td>Feroz Shah Kotla</td>\n",
              "      <td>Aleem Dar</td>\n",
              "      <td>GA Pratapkumar</td>\n",
              "      <td>NaN</td>\n",
              "    </tr>\n",
              "    <tr>\n",
              "      <th>3</th>\n",
              "      <td>63</td>\n",
              "      <td>2008</td>\n",
              "      <td>Mumbai</td>\n",
              "      <td>20-04-2008</td>\n",
              "      <td>Mumbai Indians</td>\n",
              "      <td>Royal Challengers Bangalore</td>\n",
              "      <td>Mumbai Indians</td>\n",
              "      <td>bat</td>\n",
              "      <td>normal</td>\n",
              "      <td>0</td>\n",
              "      <td>Royal Challengers Bangalore</td>\n",
              "      <td>0</td>\n",
              "      <td>5</td>\n",
              "      <td>MV Boucher</td>\n",
              "      <td>Wankhede Stadium</td>\n",
              "      <td>SJ Davis</td>\n",
              "      <td>DJ Harper</td>\n",
              "      <td>NaN</td>\n",
              "    </tr>\n",
              "    <tr>\n",
              "      <th>4</th>\n",
              "      <td>64</td>\n",
              "      <td>2008</td>\n",
              "      <td>Kolkata</td>\n",
              "      <td>20-04-2008</td>\n",
              "      <td>Deccan Chargers</td>\n",
              "      <td>Kolkata Knight Riders</td>\n",
              "      <td>Deccan Chargers</td>\n",
              "      <td>bat</td>\n",
              "      <td>normal</td>\n",
              "      <td>0</td>\n",
              "      <td>Kolkata Knight Riders</td>\n",
              "      <td>0</td>\n",
              "      <td>5</td>\n",
              "      <td>DJ Hussey</td>\n",
              "      <td>Eden Gardens</td>\n",
              "      <td>BF Bowden</td>\n",
              "      <td>K Hariharan</td>\n",
              "      <td>NaN</td>\n",
              "    </tr>\n",
              "  </tbody>\n",
              "</table>\n",
              "</div>"
            ]
          },
          "metadata": {
            "tags": []
          },
          "execution_count": 3
        }
      ]
    },
    {
      "cell_type": "code",
      "metadata": {
        "trusted": true,
        "id": "12E3ZJcpZ-Ce",
        "outputId": "98c11f27-5866-4439-97ee-4273f11caef3"
      },
      "source": [
        "df.describe().T"
      ],
      "execution_count": null,
      "outputs": [
        {
          "output_type": "execute_result",
          "data": {
            "text/plain": [
              "                count         mean          std     min      25%     50%  \\\n",
              "id              756.0  1792.178571  3464.478148     1.0   189.75   378.5   \n",
              "season          756.0  2013.444444     3.366895  2008.0  2011.00  2013.0   \n",
              "dl_applied      756.0     0.025132     0.156630     0.0     0.00     0.0   \n",
              "win_by_runs     756.0    13.283069    23.471144     0.0     0.00     0.0   \n",
              "win_by_wickets  756.0     3.350529     3.387963     0.0     0.00     4.0   \n",
              "\n",
              "                    75%      max  \n",
              "id               567.25  11415.0  \n",
              "season          2016.00   2019.0  \n",
              "dl_applied         0.00      1.0  \n",
              "win_by_runs       19.00    146.0  \n",
              "win_by_wickets     6.00     10.0  "
            ],
            "text/html": [
              "<div>\n",
              "<style scoped>\n",
              "    .dataframe tbody tr th:only-of-type {\n",
              "        vertical-align: middle;\n",
              "    }\n",
              "\n",
              "    .dataframe tbody tr th {\n",
              "        vertical-align: top;\n",
              "    }\n",
              "\n",
              "    .dataframe thead th {\n",
              "        text-align: right;\n",
              "    }\n",
              "</style>\n",
              "<table border=\"1\" class=\"dataframe\">\n",
              "  <thead>\n",
              "    <tr style=\"text-align: right;\">\n",
              "      <th></th>\n",
              "      <th>count</th>\n",
              "      <th>mean</th>\n",
              "      <th>std</th>\n",
              "      <th>min</th>\n",
              "      <th>25%</th>\n",
              "      <th>50%</th>\n",
              "      <th>75%</th>\n",
              "      <th>max</th>\n",
              "    </tr>\n",
              "  </thead>\n",
              "  <tbody>\n",
              "    <tr>\n",
              "      <th>id</th>\n",
              "      <td>756.0</td>\n",
              "      <td>1792.178571</td>\n",
              "      <td>3464.478148</td>\n",
              "      <td>1.0</td>\n",
              "      <td>189.75</td>\n",
              "      <td>378.5</td>\n",
              "      <td>567.25</td>\n",
              "      <td>11415.0</td>\n",
              "    </tr>\n",
              "    <tr>\n",
              "      <th>season</th>\n",
              "      <td>756.0</td>\n",
              "      <td>2013.444444</td>\n",
              "      <td>3.366895</td>\n",
              "      <td>2008.0</td>\n",
              "      <td>2011.00</td>\n",
              "      <td>2013.0</td>\n",
              "      <td>2016.00</td>\n",
              "      <td>2019.0</td>\n",
              "    </tr>\n",
              "    <tr>\n",
              "      <th>dl_applied</th>\n",
              "      <td>756.0</td>\n",
              "      <td>0.025132</td>\n",
              "      <td>0.156630</td>\n",
              "      <td>0.0</td>\n",
              "      <td>0.00</td>\n",
              "      <td>0.0</td>\n",
              "      <td>0.00</td>\n",
              "      <td>1.0</td>\n",
              "    </tr>\n",
              "    <tr>\n",
              "      <th>win_by_runs</th>\n",
              "      <td>756.0</td>\n",
              "      <td>13.283069</td>\n",
              "      <td>23.471144</td>\n",
              "      <td>0.0</td>\n",
              "      <td>0.00</td>\n",
              "      <td>0.0</td>\n",
              "      <td>19.00</td>\n",
              "      <td>146.0</td>\n",
              "    </tr>\n",
              "    <tr>\n",
              "      <th>win_by_wickets</th>\n",
              "      <td>756.0</td>\n",
              "      <td>3.350529</td>\n",
              "      <td>3.387963</td>\n",
              "      <td>0.0</td>\n",
              "      <td>0.00</td>\n",
              "      <td>4.0</td>\n",
              "      <td>6.00</td>\n",
              "      <td>10.0</td>\n",
              "    </tr>\n",
              "  </tbody>\n",
              "</table>\n",
              "</div>"
            ]
          },
          "metadata": {
            "tags": []
          },
          "execution_count": 5
        }
      ]
    },
    {
      "cell_type": "code",
      "metadata": {
        "trusted": true,
        "id": "VPXrqAvHZ-Ck",
        "outputId": "e2084d96-c281-457f-b150-4e113112ec66"
      },
      "source": [
        "df.isnull().sum()"
      ],
      "execution_count": null,
      "outputs": [
        {
          "output_type": "execute_result",
          "data": {
            "text/plain": [
              "id                   0\n",
              "season               0\n",
              "city                 7\n",
              "date                 0\n",
              "team1                0\n",
              "team2                0\n",
              "toss_winner          0\n",
              "toss_decision        0\n",
              "result               0\n",
              "dl_applied           0\n",
              "winner               4\n",
              "win_by_runs          0\n",
              "win_by_wickets       0\n",
              "player_of_match      4\n",
              "venue                0\n",
              "umpire1              2\n",
              "umpire2              2\n",
              "umpire3            637\n",
              "dtype: int64"
            ]
          },
          "metadata": {
            "tags": []
          },
          "execution_count": 6
        }
      ]
    },
    {
      "cell_type": "code",
      "metadata": {
        "trusted": true,
        "id": "yoXWL9ehZ-Cl"
      },
      "source": [
        "df.drop([\"id\",\"season\",\"date\",\"toss_winner\",\"toss_decision\",\"result\",\"dl_applied\",\"win_by_runs\",\"win_by_wickets\",\"umpire3\"],axis=1,inplace=True)"
      ],
      "execution_count": null,
      "outputs": []
    },
    {
      "cell_type": "code",
      "metadata": {
        "trusted": true,
        "id": "e-247D-qZ-Cl",
        "outputId": "4a8e9179-8df9-4480-caa9-9afe88229ffa"
      },
      "source": [
        "df['team1'].unique()"
      ],
      "execution_count": null,
      "outputs": [
        {
          "output_type": "execute_result",
          "data": {
            "text/plain": [
              "array(['Kolkata Knight Riders', 'Chennai Super Kings', 'Rajasthan Royals',\n",
              "       'Mumbai Indians', 'Deccan Chargers', 'Kings XI Punjab',\n",
              "       'Royal Challengers Bangalore', 'Delhi Daredevils',\n",
              "       'Kochi Tuskers Kerala', 'Pune Warriors', 'Sunrisers Hyderabad',\n",
              "       'Rising Pune Supergiants', 'Gujarat Lions',\n",
              "       'Rising Pune Supergiant', 'Delhi Capitals'], dtype=object)"
            ]
          },
          "metadata": {
            "tags": []
          },
          "execution_count": 10
        }
      ]
    },
    {
      "cell_type": "code",
      "metadata": {
        "trusted": true,
        "id": "8Ew8Y1D4Z-Cm"
      },
      "source": [
        "df.replace('Rising Pune Supergiant','Rising Pune Supergiants',inplace=True)\n",
        "df.replace('Pune Warriors','Rising Pune Supergiants',inplace=True)\n",
        "df.replace('Deccan Chargers','Sunrisers Hyderabad',inplace=True)\n",
        "df.replace('Delhi Daredevils','Delhi Capitals',inplace=True)"
      ],
      "execution_count": null,
      "outputs": []
    },
    {
      "cell_type": "code",
      "metadata": {
        "trusted": true,
        "id": "5oK2sxseZ-Cm",
        "outputId": "cb75551a-9f2f-48c7-96a8-920cada5f1c0"
      },
      "source": [
        "df['team1'].value_counts()"
      ],
      "execution_count": null,
      "outputs": [
        {
          "output_type": "execute_result",
          "data": {
            "text/plain": [
              "Sunrisers Hyderabad            106\n",
              "Mumbai Indians                 101\n",
              "Kings XI Punjab                 91\n",
              "Chennai Super Kings             89\n",
              "Royal Challengers Bangalore     85\n",
              "Kolkata Knight Riders           83\n",
              "Delhi Capitals                  78\n",
              "Rajasthan Royals                67\n",
              "Rising Pune Supergiants         35\n",
              "Gujarat Lions                   14\n",
              "Kochi Tuskers Kerala             7\n",
              "Name: team1, dtype: int64"
            ]
          },
          "metadata": {
            "tags": []
          },
          "execution_count": 12
        }
      ]
    },
    {
      "cell_type": "code",
      "metadata": {
        "trusted": true,
        "id": "CNuRxLYmZ-Cn",
        "outputId": "42ed620c-e44f-4edd-a68b-44a083ddd5e7"
      },
      "source": [
        "df['city'].unique()"
      ],
      "execution_count": null,
      "outputs": [
        {
          "output_type": "execute_result",
          "data": {
            "text/plain": [
              "array(['Bangalore', 'Chandigarh', 'Delhi', 'Mumbai', 'Kolkata', 'Jaipur',\n",
              "       'Hyderabad', 'Chennai', 'Cape Town', 'Port Elizabeth', 'Durban',\n",
              "       'Centurion', 'East London', 'Johannesburg', 'Kimberley',\n",
              "       'Bloemfontein', 'Ahmedabad', 'Cuttack', 'Nagpur', 'Dharamsala',\n",
              "       'Kochi', 'Indore', 'Visakhapatnam', 'Pune', 'Raipur', 'Ranchi',\n",
              "       'Abu Dhabi', 'Sharjah', nan, 'Rajkot', 'Kanpur', 'Mohali',\n",
              "       'Bengaluru'], dtype=object)"
            ]
          },
          "metadata": {
            "tags": []
          },
          "execution_count": 13
        }
      ]
    },
    {
      "cell_type": "code",
      "metadata": {
        "trusted": true,
        "id": "iDx5wfj0Z-Cn"
      },
      "source": [
        "df.replace('Bangalore','Bengaluru',inplace=True)"
      ],
      "execution_count": null,
      "outputs": []
    },
    {
      "cell_type": "code",
      "metadata": {
        "trusted": true,
        "id": "4kyux7peZ-Cn",
        "outputId": "ad223fd3-1a71-48f4-a55a-474031c11600"
      },
      "source": [
        "df.loc[df['city'].isnull()]"
      ],
      "execution_count": null,
      "outputs": [
        {
          "output_type": "execute_result",
          "data": {
            "text/plain": [
              "    city                        team1                        team2  \\\n",
              "402  NaN               Mumbai Indians  Royal Challengers Bangalore   \n",
              "403  NaN        Kolkata Knight Riders               Delhi Capitals   \n",
              "407  NaN          Chennai Super Kings             Rajasthan Royals   \n",
              "409  NaN          Sunrisers Hyderabad               Delhi Capitals   \n",
              "410  NaN               Mumbai Indians          Chennai Super Kings   \n",
              "415  NaN  Royal Challengers Bangalore              Kings XI Punjab   \n",
              "417  NaN          Sunrisers Hyderabad               Mumbai Indians   \n",
              "\n",
              "                          winner player_of_match  \\\n",
              "402  Royal Challengers Bangalore        PA Patel   \n",
              "403               Delhi Capitals       JP Duminy   \n",
              "407          Chennai Super Kings       RA Jadeja   \n",
              "409          Sunrisers Hyderabad        AJ Finch   \n",
              "410          Chennai Super Kings       MM Sharma   \n",
              "415              Kings XI Punjab  Sandeep Sharma   \n",
              "417          Sunrisers Hyderabad         B Kumar   \n",
              "\n",
              "                                   venue          umpire1         umpire2  \n",
              "402  Dubai International Cricket Stadium        Aleem Dar    AK Chaudhary  \n",
              "403  Dubai International Cricket Stadium        Aleem Dar     VA Kulkarni  \n",
              "407  Dubai International Cricket Stadium  HDPK Dharmasena  RK Illingworth  \n",
              "409  Dubai International Cricket Stadium        M Erasmus          S Ravi  \n",
              "410  Dubai International Cricket Stadium        BF Bowden       M Erasmus  \n",
              "415  Dubai International Cricket Stadium        BF Bowden          S Ravi  \n",
              "417  Dubai International Cricket Stadium  HDPK Dharmasena       M Erasmus  "
            ],
            "text/html": [
              "<div>\n",
              "<style scoped>\n",
              "    .dataframe tbody tr th:only-of-type {\n",
              "        vertical-align: middle;\n",
              "    }\n",
              "\n",
              "    .dataframe tbody tr th {\n",
              "        vertical-align: top;\n",
              "    }\n",
              "\n",
              "    .dataframe thead th {\n",
              "        text-align: right;\n",
              "    }\n",
              "</style>\n",
              "<table border=\"1\" class=\"dataframe\">\n",
              "  <thead>\n",
              "    <tr style=\"text-align: right;\">\n",
              "      <th></th>\n",
              "      <th>city</th>\n",
              "      <th>team1</th>\n",
              "      <th>team2</th>\n",
              "      <th>winner</th>\n",
              "      <th>player_of_match</th>\n",
              "      <th>venue</th>\n",
              "      <th>umpire1</th>\n",
              "      <th>umpire2</th>\n",
              "    </tr>\n",
              "  </thead>\n",
              "  <tbody>\n",
              "    <tr>\n",
              "      <th>402</th>\n",
              "      <td>NaN</td>\n",
              "      <td>Mumbai Indians</td>\n",
              "      <td>Royal Challengers Bangalore</td>\n",
              "      <td>Royal Challengers Bangalore</td>\n",
              "      <td>PA Patel</td>\n",
              "      <td>Dubai International Cricket Stadium</td>\n",
              "      <td>Aleem Dar</td>\n",
              "      <td>AK Chaudhary</td>\n",
              "    </tr>\n",
              "    <tr>\n",
              "      <th>403</th>\n",
              "      <td>NaN</td>\n",
              "      <td>Kolkata Knight Riders</td>\n",
              "      <td>Delhi Capitals</td>\n",
              "      <td>Delhi Capitals</td>\n",
              "      <td>JP Duminy</td>\n",
              "      <td>Dubai International Cricket Stadium</td>\n",
              "      <td>Aleem Dar</td>\n",
              "      <td>VA Kulkarni</td>\n",
              "    </tr>\n",
              "    <tr>\n",
              "      <th>407</th>\n",
              "      <td>NaN</td>\n",
              "      <td>Chennai Super Kings</td>\n",
              "      <td>Rajasthan Royals</td>\n",
              "      <td>Chennai Super Kings</td>\n",
              "      <td>RA Jadeja</td>\n",
              "      <td>Dubai International Cricket Stadium</td>\n",
              "      <td>HDPK Dharmasena</td>\n",
              "      <td>RK Illingworth</td>\n",
              "    </tr>\n",
              "    <tr>\n",
              "      <th>409</th>\n",
              "      <td>NaN</td>\n",
              "      <td>Sunrisers Hyderabad</td>\n",
              "      <td>Delhi Capitals</td>\n",
              "      <td>Sunrisers Hyderabad</td>\n",
              "      <td>AJ Finch</td>\n",
              "      <td>Dubai International Cricket Stadium</td>\n",
              "      <td>M Erasmus</td>\n",
              "      <td>S Ravi</td>\n",
              "    </tr>\n",
              "    <tr>\n",
              "      <th>410</th>\n",
              "      <td>NaN</td>\n",
              "      <td>Mumbai Indians</td>\n",
              "      <td>Chennai Super Kings</td>\n",
              "      <td>Chennai Super Kings</td>\n",
              "      <td>MM Sharma</td>\n",
              "      <td>Dubai International Cricket Stadium</td>\n",
              "      <td>BF Bowden</td>\n",
              "      <td>M Erasmus</td>\n",
              "    </tr>\n",
              "    <tr>\n",
              "      <th>415</th>\n",
              "      <td>NaN</td>\n",
              "      <td>Royal Challengers Bangalore</td>\n",
              "      <td>Kings XI Punjab</td>\n",
              "      <td>Kings XI Punjab</td>\n",
              "      <td>Sandeep Sharma</td>\n",
              "      <td>Dubai International Cricket Stadium</td>\n",
              "      <td>BF Bowden</td>\n",
              "      <td>S Ravi</td>\n",
              "    </tr>\n",
              "    <tr>\n",
              "      <th>417</th>\n",
              "      <td>NaN</td>\n",
              "      <td>Sunrisers Hyderabad</td>\n",
              "      <td>Mumbai Indians</td>\n",
              "      <td>Sunrisers Hyderabad</td>\n",
              "      <td>B Kumar</td>\n",
              "      <td>Dubai International Cricket Stadium</td>\n",
              "      <td>HDPK Dharmasena</td>\n",
              "      <td>M Erasmus</td>\n",
              "    </tr>\n",
              "  </tbody>\n",
              "</table>\n",
              "</div>"
            ]
          },
          "metadata": {
            "tags": []
          },
          "execution_count": 16
        }
      ]
    },
    {
      "cell_type": "code",
      "metadata": {
        "trusted": true,
        "id": "9tL8u1eyZ-Co"
      },
      "source": [
        "df['city'].fillna('Dubai',inplace=True)"
      ],
      "execution_count": null,
      "outputs": []
    },
    {
      "cell_type": "code",
      "metadata": {
        "trusted": true,
        "id": "Yiz_f8UGZ-Co"
      },
      "source": [
        "df.dropna(subset=[\"winner\"], inplace=True)\n",
        "df.dropna(subset=[\"umpire1\"], inplace=True)\n",
        "df.dropna(subset=[\"umpire2\"], inplace=True)\n"
      ],
      "execution_count": null,
      "outputs": []
    },
    {
      "cell_type": "code",
      "metadata": {
        "trusted": true,
        "id": "3zwFlzbgZ-Cp",
        "outputId": "3b8089ba-7fad-4fa8-841d-6f0b544540a7"
      },
      "source": [
        "df.isnull().sum()"
      ],
      "execution_count": null,
      "outputs": [
        {
          "output_type": "execute_result",
          "data": {
            "text/plain": [
              "city               0\n",
              "team1              0\n",
              "team2              0\n",
              "winner             0\n",
              "player_of_match    0\n",
              "venue              0\n",
              "umpire1            0\n",
              "umpire2            0\n",
              "dtype: int64"
            ]
          },
          "metadata": {
            "tags": []
          },
          "execution_count": 19
        }
      ]
    },
    {
      "cell_type": "code",
      "metadata": {
        "trusted": true,
        "id": "EZgeddXcZ-Cp"
      },
      "source": [
        "df.replace({\"Mumbai Indians\":\"MI\", \"Delhi Capitals\":\"DC\", \n",
        "               \"Sunrisers Hyderabad\":\"SRH\", \"Rajasthan Royals\":\"RR\", \n",
        "               \"Kolkata Knight Riders\":\"KKR\", \"Kings XI Punjab\":\"KXIP\", \n",
        "               \"Chennai Super Kings\":\"CSK\", \"Royal Challengers Bangalore\":\"RCB\",\n",
        "              \"Kochi Tuskers Kerala\":\"KTK\", \"Rising Pune Supergiants\":\"RPS\",\n",
        "              \"Gujarat Lions\":\"GL\"}, inplace=True)\n"
      ],
      "execution_count": null,
      "outputs": []
    },
    {
      "cell_type": "code",
      "metadata": {
        "trusted": true,
        "id": "dtn7-t2HZ-Cp",
        "outputId": "1527b4f9-6a84-436a-c0c0-2ee2f97618e0"
      },
      "source": [
        "plt.figure(figsize=(12,8))\n",
        "sns.countplot(x='winner',data=df)"
      ],
      "execution_count": null,
      "outputs": [
        {
          "output_type": "execute_result",
          "data": {
            "text/plain": [
              "<matplotlib.axes._subplots.AxesSubplot at 0x7fec604c99d0>"
            ]
          },
          "metadata": {
            "tags": []
          },
          "execution_count": 21
        },
        {
          "output_type": "display_data",
          "data": {
            "text/plain": [
              "<Figure size 864x576 with 1 Axes>"
            ],
            "image/png": "[encoded data removed]"
          },
          "metadata": {
            "tags": [],
            "needs_background": "light"
          }
        }
      ]
    },
    {
      "cell_type": "code",
      "metadata": {
        "trusted": true,
        "id": "RlG72nc9Z-Cq"
      },
      "source": [
        "train=df.copy()"
      ],
      "execution_count": null,
      "outputs": []
    },
    {
      "cell_type": "code",
      "metadata": {
        "trusted": true,
        "id": "Ojm_usD7Z-Cq"
      },
      "source": [
        "train.drop(train.loc[train.team1.isin(['KTK','RPS','GL'])].index, inplace=True)\n",
        "train.drop(train.loc[train.team2.isin(['KTK','RPS','GL'])].index, inplace=True)\n"
      ],
      "execution_count": null,
      "outputs": []
    },
    {
      "cell_type": "code",
      "metadata": {
        "trusted": true,
        "id": "Kp9nMFl6Z-Cq"
      },
      "source": [
        "train.replace({\"MI\":0,\"CSK\":1,\"RCB\":2,\n",
        "              \"KKR\":3,\"DC\":4,\"KXIP\":5,\n",
        "              \"RR\":6,\"SRH\":7}, inplace=True)\n"
      ],
      "execution_count": null,
      "outputs": []
    },
    {
      "cell_type": "code",
      "metadata": {
        "trusted": true,
        "id": "maetS9oLZ-Cr"
      },
      "source": [
        "train[\"winner\"] = np.where(train[\"winner\"] == train[\"team1\"], 1, 0)\n"
      ],
      "execution_count": null,
      "outputs": []
    },
    {
      "cell_type": "code",
      "metadata": {
        "trusted": true,
        "id": "L2i8ECcMZ-Cr"
      },
      "source": [
        "from sklearn.preprocessing import LabelEncoder\n",
        "encoder= LabelEncoder()\n",
        "\n",
        "train[\"city\"]=encoder.fit_transform(train[\"city\"])\n",
        "train[\"player_of_match\"]=encoder.fit_transform(train[\"player_of_match\"])\n",
        "train[\"venue\"]=encoder.fit_transform(train[\"venue\"])\n",
        "train[\"umpire1\"]=encoder.fit_transform(train[\"umpire1\"])\n",
        "train[\"umpire2\"]=encoder.fit_transform(train[\"umpire2\"])\n"
      ],
      "execution_count": null,
      "outputs": []
    },
    {
      "cell_type": "code",
      "metadata": {
        "trusted": true,
        "id": "OFhMSRYTZ-Cr",
        "outputId": "c209af52-38f2-4c6c-dc34-d30d1237407d"
      },
      "source": [
        "c=train.corr()\n",
        "c"
      ],
      "execution_count": null,
      "outputs": [
        {
          "output_type": "execute_result",
          "data": {
            "text/plain": [
              "                     city     team1     team2    winner  player_of_match  \\\n",
              "city             1.000000 -0.049319 -0.016093 -0.044073         0.014103   \n",
              "team1           -0.049319  1.000000 -0.125371 -0.092145        -0.059656   \n",
              "team2           -0.016093 -0.125371  1.000000  0.076356         0.007785   \n",
              "winner          -0.044073 -0.092145  0.076356  1.000000        -0.014425   \n",
              "player_of_match  0.014103 -0.059656  0.007785 -0.014425         1.000000   \n",
              "venue            0.088871 -0.010640  0.007488 -0.002280         0.037519   \n",
              "umpire1         -0.065736  0.000308  0.033148 -0.008867         0.007867   \n",
              "umpire2          0.005562 -0.072972  0.067577  0.095994        -0.032265   \n",
              "\n",
              "                    venue   umpire1   umpire2  \n",
              "city             0.088871 -0.065736  0.005562  \n",
              "team1           -0.010640  0.000308 -0.072972  \n",
              "team2            0.007488  0.033148  0.067577  \n",
              "winner          -0.002280 -0.008867  0.095994  \n",
              "player_of_match  0.037519  0.007867 -0.032265  \n",
              "venue            1.000000 -0.037034  0.061509  \n",
              "umpire1         -0.037034  1.000000  0.059578  \n",
              "umpire2          0.061509  0.059578  1.000000  "
            ],
            "text/html": [
              "<div>\n",
              "<style scoped>\n",
              "    .dataframe tbody tr th:only-of-type {\n",
              "        vertical-align: middle;\n",
              "    }\n",
              "\n",
              "    .dataframe tbody tr th {\n",
              "        vertical-align: top;\n",
              "    }\n",
              "\n",
              "    .dataframe thead th {\n",
              "        text-align: right;\n",
              "    }\n",
              "</style>\n",
              "<table border=\"1\" class=\"dataframe\">\n",
              "  <thead>\n",
              "    <tr style=\"text-align: right;\">\n",
              "      <th></th>\n",
              "      <th>city</th>\n",
              "      <th>team1</th>\n",
              "      <th>team2</th>\n",
              "      <th>winner</th>\n",
              "      <th>player_of_match</th>\n",
              "      <th>venue</th>\n",
              "      <th>umpire1</th>\n",
              "      <th>umpire2</th>\n",
              "    </tr>\n",
              "  </thead>\n",
              "  <tbody>\n",
              "    <tr>\n",
              "      <th>city</th>\n",
              "      <td>1.000000</td>\n",
              "      <td>-0.049319</td>\n",
              "      <td>-0.016093</td>\n",
              "      <td>-0.044073</td>\n",
              "      <td>0.014103</td>\n",
              "      <td>0.088871</td>\n",
              "      <td>-0.065736</td>\n",
              "      <td>0.005562</td>\n",
              "    </tr>\n",
              "    <tr>\n",
              "      <th>team1</th>\n",
              "      <td>-0.049319</td>\n",
              "      <td>1.000000</td>\n",
              "      <td>-0.125371</td>\n",
              "      <td>-0.092145</td>\n",
              "      <td>-0.059656</td>\n",
              "      <td>-0.010640</td>\n",
              "      <td>0.000308</td>\n",
              "      <td>-0.072972</td>\n",
              "    </tr>\n",
              "    <tr>\n",
              "      <th>team2</th>\n",
              "      <td>-0.016093</td>\n",
              "      <td>-0.125371</td>\n",
              "      <td>1.000000</td>\n",
              "      <td>0.076356</td>\n",
              "      <td>0.007785</td>\n",
              "      <td>0.007488</td>\n",
              "      <td>0.033148</td>\n",
              "      <td>0.067577</td>\n",
              "    </tr>\n",
              "    <tr>\n",
              "      <th>winner</th>\n",
              "      <td>-0.044073</td>\n",
              "      <td>-0.092145</td>\n",
              "      <td>0.076356</td>\n",
              "      <td>1.000000</td>\n",
              "      <td>-0.014425</td>\n",
              "      <td>-0.002280</td>\n",
              "      <td>-0.008867</td>\n",
              "      <td>0.095994</td>\n",
              "    </tr>\n",
              "    <tr>\n",
              "      <th>player_of_match</th>\n",
              "      <td>0.014103</td>\n",
              "      <td>-0.059656</td>\n",
              "      <td>0.007785</td>\n",
              "      <td>-0.014425</td>\n",
              "      <td>1.000000</td>\n",
              "      <td>0.037519</td>\n",
              "      <td>0.007867</td>\n",
              "      <td>-0.032265</td>\n",
              "    </tr>\n",
              "    <tr>\n",
              "      <th>venue</th>\n",
              "      <td>0.088871</td>\n",
              "      <td>-0.010640</td>\n",
              "      <td>0.007488</td>\n",
              "      <td>-0.002280</td>\n",
              "      <td>0.037519</td>\n",
              "      <td>1.000000</td>\n",
              "      <td>-0.037034</td>\n",
              "      <td>0.061509</td>\n",
              "    </tr>\n",
              "    <tr>\n",
              "      <th>umpire1</th>\n",
              "      <td>-0.065736</td>\n",
              "      <td>0.000308</td>\n",
              "      <td>0.033148</td>\n",
              "      <td>-0.008867</td>\n",
              "      <td>0.007867</td>\n",
              "      <td>-0.037034</td>\n",
              "      <td>1.000000</td>\n",
              "      <td>0.059578</td>\n",
              "    </tr>\n",
              "    <tr>\n",
              "      <th>umpire2</th>\n",
              "      <td>0.005562</td>\n",
              "      <td>-0.072972</td>\n",
              "      <td>0.067577</td>\n",
              "      <td>0.095994</td>\n",
              "      <td>-0.032265</td>\n",
              "      <td>0.061509</td>\n",
              "      <td>0.059578</td>\n",
              "      <td>1.000000</td>\n",
              "    </tr>\n",
              "  </tbody>\n",
              "</table>\n",
              "</div>"
            ]
          },
          "metadata": {
            "tags": []
          },
          "execution_count": 31
        }
      ]
    },
    {
      "cell_type": "code",
      "metadata": {
        "trusted": true,
        "id": "odcPJXJ3Z-Cs",
        "outputId": "302dc82f-4246-48c7-cb89-fa5b6c95086e"
      },
      "source": [
        "sns.heatmap(c,annot=True,cmap='coolwarm')"
      ],
      "execution_count": null,
      "outputs": [
        {
          "output_type": "execute_result",
          "data": {
            "text/plain": [
              "<matplotlib.axes._subplots.AxesSubplot at 0x7fec59028c10>"
            ]
          },
          "metadata": {
            "tags": []
          },
          "execution_count": 33
        },
        {
          "output_type": "display_data",
          "data": {
            "text/plain": [
              "<Figure size 432x288 with 2 Axes>"
            ],
            "image/png": "[encoded data removed]"
          },
          "metadata": {
            "tags": [],
            "needs_background": "light"
          }
        }
      ]
    },
    {
      "cell_type": "code",
      "metadata": {
        "trusted": true,
        "id": "II_rp9NPZ-Ct"
      },
      "source": [
        "X = train.drop('winner', axis=1)\n",
        "y = train['winner']\n"
      ],
      "execution_count": null,
      "outputs": []
    },
    {
      "cell_type": "code",
      "metadata": {
        "trusted": true,
        "id": "xNQKJO7EZ-Ct"
      },
      "source": [
        "from sklearn.ensemble import RandomForestClassifier\n",
        "from sklearn.metrics import confusion_matrix, classification_report\n",
        "from sklearn.preprocessing import StandardScaler\n",
        "from sklearn.model_selection import train_test_split\n"
      ],
      "execution_count": null,
      "outputs": []
    },
    {
      "cell_type": "code",
      "metadata": {
        "trusted": true,
        "id": "zRouJcp_Z-Ct"
      },
      "source": [
        "X_train, X_test, y_train, y_test = train_test_split(X, y, test_size=0.2, random_state=42)\n"
      ],
      "execution_count": null,
      "outputs": []
    },
    {
      "cell_type": "code",
      "metadata": {
        "trusted": true,
        "id": "RdlvDH04Z-Ct"
      },
      "source": [
        "sc = StandardScaler()\n",
        "X_train = sc.fit_transform(X_train)\n",
        "X_test = sc.transform(X_test)\n"
      ],
      "execution_count": null,
      "outputs": []
    },
    {
      "cell_type": "code",
      "metadata": {
        "trusted": true,
        "id": "yrymMoI3Z-Cu",
        "outputId": "83c38d42-08cc-4d88-d1d2-a9f529d326c1"
      },
      "source": [
        "randomForest= RandomForestClassifier(n_estimators=100)\n",
        "randomForest.fit(X_train,y_train)\n",
        "randomForest.score(X_test,y_test)\n"
      ],
      "execution_count": null,
      "outputs": [
        {
          "output_type": "execute_result",
          "data": {
            "text/plain": [
              "0.6015625"
            ]
          },
          "metadata": {
            "tags": []
          },
          "execution_count": 38
        }
      ]
    },
    {
      "cell_type": "code",
      "metadata": {
        "trusted": true,
        "id": "SLhqs5FfZ-Cu"
      },
      "source": [
        "y_pred = randomForest.predict(X_test)\n"
      ],
      "execution_count": null,
      "outputs": []
    },
    {
      "cell_type": "code",
      "metadata": {
        "trusted": true,
        "id": "lmn5a2yYZ-Cu",
        "outputId": "ed731b2c-c11c-4646-863a-1811885552d6"
      },
      "source": [
        "print(\"Confusion matrix\\n\",confusion_matrix(y_test,y_pred))\n",
        "print(classification_report(y_test,y_pred))\n",
        "print('Accuracy of random forest classifier on test set: {:.4f}'.format(randomForest.score(X_test, y_test)*100))\n"
      ],
      "execution_count": null,
      "outputs": [
        {
          "output_type": "stream",
          "text": [
            "Confusion matrix\n",
            " [[55 24]\n",
            " [27 22]]\n",
            "              precision    recall  f1-score   support\n",
            "\n",
            "           0       0.67      0.70      0.68        79\n",
            "           1       0.48      0.45      0.46        49\n",
            "\n",
            "    accuracy                           0.60       128\n",
            "   macro avg       0.57      0.57      0.57       128\n",
            "weighted avg       0.60      0.60      0.60       128\n",
            "\n",
            "Accuracy of random forest classifier on test set: 60.1562\n"
          ],
          "name": "stdout"
        }
      ]
    },
    {
      "cell_type": "code",
      "metadata": {
        "trusted": true,
        "id": "YaIqbj_fZ-Cv"
      },
      "source": [
        "url='https://raw.githubusercontent.com/infernoman16/learn101/main/Testset%20Matches%20IPL%202020.csv?token=AJKWGQINA3FWRNUAZ7GIIMS754UO6'\n",
        "test=pd.read_csv(url)"
      ],
      "execution_count": null,
      "outputs": []
    },
    {
      "cell_type": "code",
      "metadata": {
        "trusted": true,
        "id": "69b3rXDcZ-Cv",
        "outputId": "c54b9cf4-bd6f-46de-818c-0ef5ed0fdf32"
      },
      "source": [
        "test.head()"
      ],
      "execution_count": null,
      "outputs": [
        {
          "output_type": "execute_result",
          "data": {
            "text/plain": [
              "        id  season         city       date team1 team2 player_of_match  \\\n",
              "0  1216492    2020    Abu Dhabi  9/19/2020    MI   CSK       AT Rayudu   \n",
              "1  1216493    2020  Dubai (DSC)  9/20/2020    DC  KXIP      MP Stoinis   \n",
              "2  1216534    2020  Dubai (DSC)  9/21/2020   SRH   RCB       YS Chahal   \n",
              "3  1216496    2020      Sharjah  9/22/2020    RR   CSK       SV Samson   \n",
              "4  1216508    2020    Abu Dhabi  9/23/2020   KKR    MI       RG Sharma   \n",
              "\n",
              "                                 venue                  umpire1  \\\n",
              "0      Sheikh Zayed Stadium, Abu Dhabi           Chris Gaffaney   \n",
              "1  Dubai International Cricket Stadium           Anil Chaudhary   \n",
              "2  Dubai International Cricket Stadium            Anil Dandekar   \n",
              "3              Sharjah Cricket Stadium  Chettithody Shamshuddin   \n",
              "4      Sheikh Zayed Stadium, Abu Dhabi           Chris Gaffaney   \n",
              "\n",
              "           umpire2                umpire3  \n",
              "0  Virender Sharma          Sundaram Ravi  \n",
              "1      Nitin Menon           Paul Reiffel  \n",
              "2      Nitin Menon         Anil Chaudhary  \n",
              "3  Vineet Kulkarni  KN Ananthapadmanabhan  \n",
              "4    Sundaram Ravi        Virender Sharma  "
            ],
            "text/html": [
              "<div>\n",
              "<style scoped>\n",
              "    .dataframe tbody tr th:only-of-type {\n",
              "        vertical-align: middle;\n",
              "    }\n",
              "\n",
              "    .dataframe tbody tr th {\n",
              "        vertical-align: top;\n",
              "    }\n",
              "\n",
              "    .dataframe thead th {\n",
              "        text-align: right;\n",
              "    }\n",
              "</style>\n",
              "<table border=\"1\" class=\"dataframe\">\n",
              "  <thead>\n",
              "    <tr style=\"text-align: right;\">\n",
              "      <th></th>\n",
              "      <th>id</th>\n",
              "      <th>season</th>\n",
              "      <th>city</th>\n",
              "      <th>date</th>\n",
              "      <th>team1</th>\n",
              "      <th>team2</th>\n",
              "      <th>player_of_match</th>\n",
              "      <th>venue</th>\n",
              "      <th>umpire1</th>\n",
              "      <th>umpire2</th>\n",
              "      <th>umpire3</th>\n",
              "    </tr>\n",
              "  </thead>\n",
              "  <tbody>\n",
              "    <tr>\n",
              "      <th>0</th>\n",
              "      <td>1216492</td>\n",
              "      <td>2020</td>\n",
              "      <td>Abu Dhabi</td>\n",
              "      <td>9/19/2020</td>\n",
              "      <td>MI</td>\n",
              "      <td>CSK</td>\n",
              "      <td>AT Rayudu</td>\n",
              "      <td>Sheikh Zayed Stadium, Abu Dhabi</td>\n",
              "      <td>Chris Gaffaney</td>\n",
              "      <td>Virender Sharma</td>\n",
              "      <td>Sundaram Ravi</td>\n",
              "    </tr>\n",
              "    <tr>\n",
              "      <th>1</th>\n",
              "      <td>1216493</td>\n",
              "      <td>2020</td>\n",
              "      <td>Dubai (DSC)</td>\n",
              "      <td>9/20/2020</td>\n",
              "      <td>DC</td>\n",
              "      <td>KXIP</td>\n",
              "      <td>MP Stoinis</td>\n",
              "      <td>Dubai International Cricket Stadium</td>\n",
              "      <td>Anil Chaudhary</td>\n",
              "      <td>Nitin Menon</td>\n",
              "      <td>Paul Reiffel</td>\n",
              "    </tr>\n",
              "    <tr>\n",
              "      <th>2</th>\n",
              "      <td>1216534</td>\n",
              "      <td>2020</td>\n",
              "      <td>Dubai (DSC)</td>\n",
              "      <td>9/21/2020</td>\n",
              "      <td>SRH</td>\n",
              "      <td>RCB</td>\n",
              "      <td>YS Chahal</td>\n",
              "      <td>Dubai International Cricket Stadium</td>\n",
              "      <td>Anil Dandekar</td>\n",
              "      <td>Nitin Menon</td>\n",
              "      <td>Anil Chaudhary</td>\n",
              "    </tr>\n",
              "    <tr>\n",
              "      <th>3</th>\n",
              "      <td>1216496</td>\n",
              "      <td>2020</td>\n",
              "      <td>Sharjah</td>\n",
              "      <td>9/22/2020</td>\n",
              "      <td>RR</td>\n",
              "      <td>CSK</td>\n",
              "      <td>SV Samson</td>\n",
              "      <td>Sharjah Cricket Stadium</td>\n",
              "      <td>Chettithody Shamshuddin</td>\n",
              "      <td>Vineet Kulkarni</td>\n",
              "      <td>KN Ananthapadmanabhan</td>\n",
              "    </tr>\n",
              "    <tr>\n",
              "      <th>4</th>\n",
              "      <td>1216508</td>\n",
              "      <td>2020</td>\n",
              "      <td>Abu Dhabi</td>\n",
              "      <td>9/23/2020</td>\n",
              "      <td>KKR</td>\n",
              "      <td>MI</td>\n",
              "      <td>RG Sharma</td>\n",
              "      <td>Sheikh Zayed Stadium, Abu Dhabi</td>\n",
              "      <td>Chris Gaffaney</td>\n",
              "      <td>Sundaram Ravi</td>\n",
              "      <td>Virender Sharma</td>\n",
              "    </tr>\n",
              "  </tbody>\n",
              "</table>\n",
              "</div>"
            ]
          },
          "metadata": {
            "tags": []
          },
          "execution_count": 42
        }
      ]
    },
    {
      "cell_type": "code",
      "metadata": {
        "trusted": true,
        "id": "Z--aW1DmZ-Cv"
      },
      "source": [
        "test2 = test.copy()\n",
        "test2.drop([\"id\", \"season\", \"date\", \n",
        "           \"umpire3\"], axis=1, inplace=True)\n"
      ],
      "execution_count": null,
      "outputs": []
    },
    {
      "cell_type": "code",
      "metadata": {
        "trusted": true,
        "id": "NO4HzITVZ-Cw"
      },
      "source": [
        "test2.replace({\"MI\":0,\"CSK\":1,\"RCB\":2,\n",
        "              \"KKR\":3,\"DC\":4,\"KXIP\":5,\n",
        "              \"RR\":6,\"SRH\":7}, inplace=True)\n"
      ],
      "execution_count": null,
      "outputs": []
    },
    {
      "cell_type": "code",
      "metadata": {
        "trusted": true,
        "id": "xatq8QXJZ-Cw"
      },
      "source": [
        "test2[\"city\"]=encoder.fit_transform(test_copy[\"city\"])\n",
        "test2[\"player_of_match\"]=encoder.fit_transform(test_copy[\"player_of_match\"])\n",
        "test2[\"venue\"]=encoder.fit_transform(test_copy[\"venue\"])\n",
        "test2[\"umpire1\"]=encoder.fit_transform(test_copy[\"umpire1\"])\n",
        "test2[\"umpire2\"]=encoder.fit_transform(test_copy[\"umpire2\"])\n"
      ],
      "execution_count": null,
      "outputs": []
    },
    {
      "cell_type": "code",
      "metadata": {
        "trusted": true,
        "id": "BwJf3W76Z-Cw",
        "outputId": "8b727bc5-fb7b-493b-8a85-29b4b389dd7a"
      },
      "source": [
        "pred = randomForest.predict(test2)\n",
        "print(pred)\n",
        "\n",
        "winner = list()\n",
        "for i in range(len(pred)):\n",
        "    if pred[i] == 0:\n",
        "        winner.append(2)\n",
        "    else:\n",
        "        winner.append(1)\n"
      ],
      "execution_count": null,
      "outputs": [
        {
          "output_type": "stream",
          "text": [
            "[0 1 1 0 1 1 0 0 0 0 0 0 1 1 0 0 0 1 0 0 0 1 0 0 1 0 0 1 1 1 0 0 1 0 0 0 1\n",
            " 0 0 0 0 0 1 0 1 0 1 0 0 0 0 0 1 0 0 0 0 0 0 0]\n"
          ],
          "name": "stdout"
        }
      ]
    },
    {
      "cell_type": "code",
      "metadata": {
        "trusted": true,
        "id": "DF3sUNPUZ-Cw"
      },
      "source": [
        "submission = {\"id\":test.id.tolist(),\"winner\":winner}\n",
        "submit = pd.DataFrame(submission)\n",
        "\n",
        "submit.to_csv(\"submit.csv\", index=False)"
      ],
      "execution_count": null,
      "outputs": []
    }
  ]
}